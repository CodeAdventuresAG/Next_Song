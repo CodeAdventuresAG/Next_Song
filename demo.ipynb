{
 "cells": [
  {
   "cell_type": "code",
   "execution_count": 1,
   "id": "57d23816",
   "metadata": {},
   "outputs": [],
   "source": [
    "from Next_Song import Songs"
   ]
  },
  {
   "cell_type": "code",
   "execution_count": 2,
   "id": "70f31e20",
   "metadata": {},
   "outputs": [
    {
     "name": "stdout",
     "output_type": "stream",
     "text": [
      "trackname: Let Me Out\n",
      "artist: Gorillaz\n",
      "popularity: 67\n",
      "views: 202.4K\n"
     ]
    }
   ],
   "source": [
    "songs = Songs.Songs()\n",
    "songs.random_song()"
   ]
  },
  {
   "cell_type": "code",
   "execution_count": 3,
   "id": "fd8cbce3",
   "metadata": {},
   "outputs": [
    {
     "name": "stdout",
     "output_type": "stream",
     "text": [
      "trackname: Mood\n",
      "artist: 24kGoldn Featuring iann dior\n",
      "popularity: 30\n",
      "views: 861K\n"
     ]
    }
   ],
   "source": [
    "songs.Most_Popular_Song()"
   ]
  },
  {
   "cell_type": "code",
   "execution_count": 4,
   "id": "198be85c",
   "metadata": {},
   "outputs": [
    {
     "name": "stdout",
     "output_type": "stream",
     "text": [
      "Type in a keyword: believe\n",
      "trackname: The Birds, The Bees, & The Monkees\n",
      "artist: The Monkees\n",
      "popularity: 101\n",
      "views: 0\n"
     ]
    }
   ],
   "source": [
    "songs.Search_songs()"
   ]
  },
  {
   "cell_type": "code",
   "execution_count": null,
   "id": "d0ae69b9",
   "metadata": {},
   "outputs": [],
   "source": []
  }
 ],
 "metadata": {
  "kernelspec": {
   "display_name": "Python 3 (ipykernel)",
   "language": "python",
   "name": "python3"
  },
  "language_info": {
   "codemirror_mode": {
    "name": "ipython",
    "version": 3
   },
   "file_extension": ".py",
   "mimetype": "text/x-python",
   "name": "python",
   "nbconvert_exporter": "python",
   "pygments_lexer": "ipython3",
   "version": "3.9.7"
  }
 },
 "nbformat": 4,
 "nbformat_minor": 5
}
